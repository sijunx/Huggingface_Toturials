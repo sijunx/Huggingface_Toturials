{
 "cells": [
  {
   "cell_type": "code",
   "execution_count": 2,
   "id": "677fe3a5",
   "metadata": {},
   "outputs": [
    {
     "data": {
      "text/plain": [
       "tensor([[0.2141, 0.8077, 0.2716,  ..., 0.2090, 0.9790, 0.7950],\n",
       "        [0.1467, 0.1277, 0.2191,  ..., 0.0208, 0.9914, 0.6768],\n",
       "        [0.6062, 0.8383, 0.2492,  ..., 0.7397, 0.4460, 0.6341],\n",
       "        ...,\n",
       "        [0.2420, 0.2899, 0.1510,  ..., 0.5571, 0.8710, 0.0473],\n",
       "        [0.6496, 0.6111, 0.3195,  ..., 0.3604, 0.4124, 0.7692],\n",
       "        [0.7883, 0.8422, 0.3322,  ..., 0.1781, 0.2400, 0.5819]])"
      ]
     },
     "execution_count": 2,
     "metadata": {},
     "output_type": "execute_result"
    }
   ],
   "source": [
    "import torch\n",
    "\n",
    "#https://blog.csdn.net/qq_38566432/article/details/125076136\n",
    "\n",
    "input_a = torch.rand(64, 32)\n",
    "input_a"
   ]
  },
  {
   "cell_type": "code",
   "execution_count": 11,
   "id": "38d87176",
   "metadata": {},
   "outputs": [
    {
     "name": "stdout",
     "output_type": "stream",
     "text": [
      "torch.Size([64, 64])\n",
      "torch.Size([64, 32])\n"
     ]
    }
   ],
   "source": [
    "line = torch.nn.Linear(32, 64)\n",
    "\n",
    "output_a = line(input_a)\n",
    "\n",
    "print(output_a.shape)\n",
    "print(line.weight.shape)"
   ]
  },
  {
   "cell_type": "code",
   "execution_count": 29,
   "id": "ab8b2179",
   "metadata": {},
   "outputs": [
    {
     "name": "stdout",
     "output_type": "stream",
     "text": [
      "b.shape: torch.Size([28, 32, 21])\n",
      "c.shape: torch.Size([28, 64, 21])\n"
     ]
    }
   ],
   "source": [
    "a = torch.rand(64, 32)\n",
    "b = torch.rand(28, 21, 32)\n",
    "b = torch.transpose(input=b, dim0=2, dim1=1)\n",
    "print(\"b.shape:\", b.shape)\n",
    "c = torch.matmul(a, b)\n",
    "print(\"c.shape:\", c.shape)"
   ]
  },
  {
   "cell_type": "code",
   "execution_count": 30,
   "id": "5682b80d",
   "metadata": {},
   "outputs": [
    {
     "ename": "RuntimeError",
     "evalue": "mat2 must be a matrix",
     "output_type": "error",
     "traceback": [
      "\u001b[0;31m---------------------------------------------------------------------------\u001b[0m",
      "\u001b[0;31mRuntimeError\u001b[0m                              Traceback (most recent call last)",
      "Input \u001b[0;32mIn [30]\u001b[0m, in \u001b[0;36m<cell line: 1>\u001b[0;34m()\u001b[0m\n\u001b[0;32m----> 1\u001b[0m c \u001b[38;5;241m=\u001b[39m \u001b[43mtorch\u001b[49m\u001b[38;5;241;43m.\u001b[39;49m\u001b[43mmm\u001b[49m\u001b[43m(\u001b[49m\u001b[43ma\u001b[49m\u001b[43m,\u001b[49m\u001b[43m \u001b[49m\u001b[43mb\u001b[49m\u001b[43m)\u001b[49m\n",
      "\u001b[0;31mRuntimeError\u001b[0m: mat2 must be a matrix"
     ]
    }
   ],
   "source": [
    "#torch.mm只支持二维矩阵相乘\n",
    "c = torch.mm(a, b)"
   ]
  }
 ],
 "metadata": {
  "kernelspec": {
   "display_name": "Python 3 (ipykernel)",
   "language": "python",
   "name": "python3"
  },
  "language_info": {
   "codemirror_mode": {
    "name": "ipython",
    "version": 3
   },
   "file_extension": ".py",
   "mimetype": "text/x-python",
   "name": "python",
   "nbconvert_exporter": "python",
   "pygments_lexer": "ipython3",
   "version": "3.9.0"
  }
 },
 "nbformat": 4,
 "nbformat_minor": 5
}
