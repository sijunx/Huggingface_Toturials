{
 "cells": [
  {
   "cell_type": "code",
   "execution_count": 1,
   "id": "587fc81c",
   "metadata": {},
   "outputs": [
    {
     "name": "stdout",
     "output_type": "stream",
     "text": [
      "x066\n",
      "x077\n"
     ]
    }
   ],
   "source": [
    "import torch\n",
    "from transformers import BertTokenizer\n",
    "\n",
    "from 我的文本分类.MyDataset import MyDataset\n",
    "print(\"x066\")\n",
    "myToken = BertTokenizer.from_pretrained('bert-base-chinese')\n",
    "print(\"x077\")\n",
    "\n",
    "class MyDataLoader:\n",
    "    def __init__(self, dataset):\n",
    "        print(\"x01\")\n",
    "        self.myDataset = dataset\n",
    "\n",
    "    def collate_fn(data):\n",
    "        print(\"x02\")\n",
    "        sents = [i[0] for i in data]\n",
    "        labels = [i[1] for i in data]\n",
    "        # 编码\n",
    "        data = myToken.batch_encode_plus(batch_text_or_text_pairs=sents,\n",
    "                                         truncation=True,\n",
    "                                         padding='max_length',\n",
    "                                         max_length=500,\n",
    "                                         return_tensors='pt',\n",
    "                                         return_length=True)\n",
    "\n",
    "        # input_ids:编码之后的数字\n",
    "        # attention_mask:是补零的位置是0,其他位置是1\n",
    "        input_ids = data['input_ids']\n",
    "        attention_mask = data['attention_mask']\n",
    "        token_type_ids = data['token_type_ids']\n",
    "        labels = torch.LongTensor(labels)\n",
    "\n",
    "        # print(data['length'], data['length'].max())\n",
    "\n",
    "        return input_ids, attention_mask, token_type_ids, labels\n",
    "\n",
    "    def myLoader(self):\n",
    "        print(\"x03\")\n",
    "        # 数据加载器\n",
    "        loader = torch.utils.data.DataLoader(dataset=self.myDataset,\n",
    "                                             batch_size=16,\n",
    "                                             collate_fn=MyDataLoader.collate_fn,\n",
    "                                             shuffle=True,\n",
    "                                             drop_last=True)\n",
    "        return loader\n",
    "\n",
    "\n",
    "def __main_():\n",
    "    print(\"x04\")\n",
    "    myDataset = MyDataset('train')\n",
    "    myDataLoader = MyDataLoader(myDataset)\n",
    "    for i, (input_ids, attention_mask, token_type_ids, labels) in enumerate(myDataLoader):\n",
    "        break\n",
    "\n",
    "    print(len(myDataLoader))\n",
    "    print(input_ids.shape, attention_mask.shape, token_type_ids.shape, labels)\n"
   ]
  }
 ],
 "metadata": {
  "kernelspec": {
   "display_name": "Python 3 (ipykernel)",
   "language": "python",
   "name": "python3"
  },
  "language_info": {
   "codemirror_mode": {
    "name": "ipython",
    "version": 3
   },
   "file_extension": ".py",
   "mimetype": "text/x-python",
   "name": "python",
   "nbconvert_exporter": "python",
   "pygments_lexer": "ipython3",
   "version": "3.9.0"
  }
 },
 "nbformat": 4,
 "nbformat_minor": 5
}
