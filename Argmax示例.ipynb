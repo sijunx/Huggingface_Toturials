{
 "cells": [
  {
   "cell_type": "code",
   "execution_count": 1,
   "id": "ef2fe067",
   "metadata": {},
   "outputs": [
    {
     "name": "stdout",
     "output_type": "stream",
     "text": [
      "tensor([[[ 1,  5,  5,  2],\n",
      "         [ 9, -6,  2,  8],\n",
      "         [-3,  7, -9,  1]],\n",
      "\n",
      "        [[-1,  7, -5,  2],\n",
      "         [ 9,  6,  2,  8],\n",
      "         [ 3,  7,  9,  1]]])\n",
      "torch.Size([2, 3, 4])\n",
      "tensor([[1, 2, 0, 1],\n",
      "        [1, 0, 2, 1]])\n"
     ]
    }
   ],
   "source": [
    "import torch\n",
    "\n",
    "#https://bbs.huaweicloud.com/blogs/329065\n",
    "a = torch.tensor([\n",
    "                    [\n",
    "                        [1, 5, 5, 2],\n",
    "                        [9, -6, 2, 8],\n",
    "                        [-3, 7, -9, 1]\n",
    "                    ],\n",
    "                    [\n",
    "                        [-1, 7, -5, 2],\n",
    "                        [9, 6, 2, 8],\n",
    "                        [3, 7, 9, 1]\n",
    "                    ]\n",
    "                ])\n",
    "\n",
    "b = torch.argmax(a, dim=1)\n",
    "\n",
    "print(a)\n",
    "print(a.shape)\n",
    "print(b)"
   ]
  }
 ],
 "metadata": {
  "kernelspec": {
   "display_name": "Python 3 (ipykernel)",
   "language": "python",
   "name": "python3"
  },
  "language_info": {
   "codemirror_mode": {
    "name": "ipython",
    "version": 3
   },
   "file_extension": ".py",
   "mimetype": "text/x-python",
   "name": "python",
   "nbconvert_exporter": "python",
   "pygments_lexer": "ipython3",
   "version": "3.9.0"
  }
 },
 "nbformat": 4,
 "nbformat_minor": 5
}
