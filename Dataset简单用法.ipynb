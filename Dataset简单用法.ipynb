{
 "cells": [
  {
   "cell_type": "code",
   "execution_count": 7,
   "id": "7b7f9740",
   "metadata": {},
   "outputs": [
    {
     "name": "stdout",
     "output_type": "stream",
     "text": [
      "x轴数值: tensor([11., 12., 13., 14., 15., 16., 17., 18., 19., 20.])\n",
      "y轴数值: tensor([ 1.,  2.,  3.,  4.,  5.,  6.,  7.,  8.,  9., 10., 11., 12., 13., 14.,\n",
      "        15., 16., 17., 18., 19., 20.])\n",
      "mydataset: <__main__.MyDataset object at 0x7f7ad7e4ed60>\n",
      "<torch.utils.data.dataloader.DataLoader object at 0x7f7ad4271a00>\n",
      "epoch 0 |step: 0 |batch x: [11. 12. 13.] |batch y: [1. 2. 3.]\n",
      "epoch 0 |step: 1 |batch x: [14. 15. 16.] |batch y: [4. 5. 6.]\n",
      "epoch 0 |step: 2 |batch x: [17. 18. 19.] |batch y: [7. 8. 9.]\n",
      "epoch 0 |step: 3 |batch x: [20.] |batch y: [10.]\n",
      "epoch 1 |step: 0 |batch x: [11. 12. 13.] |batch y: [1. 2. 3.]\n",
      "epoch 1 |step: 1 |batch x: [14. 15. 16.] |batch y: [4. 5. 6.]\n",
      "epoch 1 |step: 2 |batch x: [17. 18. 19.] |batch y: [7. 8. 9.]\n",
      "epoch 1 |step: 3 |batch x: [20.] |batch y: [10.]\n",
      "epoch 2 |step: 0 |batch x: [11. 12. 13.] |batch y: [1. 2. 3.]\n",
      "epoch 2 |step: 1 |batch x: [14. 15. 16.] |batch y: [4. 5. 6.]\n",
      "epoch 2 |step: 2 |batch x: [17. 18. 19.] |batch y: [7. 8. 9.]\n",
      "epoch 2 |step: 3 |batch x: [20.] |batch y: [10.]\n"
     ]
    }
   ],
   "source": [
    "from torch.utils.data import Dataset, DataLoader\n",
    "import torch\n",
    "\n",
    "#https://www.jb51.net/article/234796.htm\n",
    "class MyDataset(Dataset):\n",
    "    #下载数据，初始化数据，都可以在这里完成\n",
    "    def __init__(self):\n",
    "        self.x = torch.linspace(11, 20, 10)\n",
    "        self.y = torch.linspace(1, 20, 20)\n",
    "        self.len = len(self.x)\n",
    "        print('x轴数值:', self.x)\n",
    "        print('y轴数值:', self.y)\n",
    "\n",
    "    def __getitem__(self, index):\n",
    "        return self.x[index], self.y[index]\n",
    "    \n",
    "    def __len__(self):\n",
    "        return self.len\n",
    "    \n",
    "# 实例化这个类，然后我们就得到了Dataset类型的数据，记下来就将这个类传给DataLoader，就可以了\n",
    "mydataset = MyDataset()\n",
    "print(\"mydataset:\", mydataset)\n",
    "\n",
    "train_loader2 = DataLoader(dataset=mydataset, batch_size=3, shuffle=False)\n",
    "print(train_loader2)\n",
    "\n",
    "# 训练所有！整套！数据3次\n",
    "for epoch in range(3): \n",
    "    # 每一步loader释放一小批数据来学习\n",
    "    for step, (batch_x, batch_y) in enumerate(train_loader2):\n",
    "        #假设这里就是你训练的地方\n",
    "        #打出来一些数据\n",
    "        print('epoch', epoch, '|step:', step, '|batch x:', batch_x.numpy(), '|batch y:', batch_y.numpy())"
   ]
  }
 ],
 "metadata": {
  "kernelspec": {
   "display_name": "Python 3 (ipykernel)",
   "language": "python",
   "name": "python3"
  },
  "language_info": {
   "codemirror_mode": {
    "name": "ipython",
    "version": 3
   },
   "file_extension": ".py",
   "mimetype": "text/x-python",
   "name": "python",
   "nbconvert_exporter": "python",
   "pygments_lexer": "ipython3",
   "version": "3.9.0"
  }
 },
 "nbformat": 4,
 "nbformat_minor": 5
}
