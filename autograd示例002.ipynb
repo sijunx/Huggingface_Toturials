{
 "cells": [
  {
   "cell_type": "code",
   "execution_count": 4,
   "id": "aeee3aef",
   "metadata": {},
   "outputs": [
    {
     "name": "stdout",
     "output_type": "stream",
     "text": [
      "tensor([[0.7440, 0.7503, 0.1469],\n",
      "        [0.2133, 0.0671, 0.9295]])\n",
      "tensor([[0.5512, 0.2506, 0.0369],\n",
      "        [0.5208, 0.4749, 0.1977]])\n",
      "torch.Size([2, 3])\n",
      "tensor([[0.4101, 0.1880, 0.0054],\n",
      "        [0.1111, 0.0319, 0.1837]])\n"
     ]
    }
   ],
   "source": [
    "import torch\n",
    "\n",
    "a = torch.rand(2, 3)\n",
    "b = torch.rand(2, 3)\n",
    "\n",
    "print(a)\n",
    "print(b)\n",
    "\n",
    "#相乘原理：https://wenku.baidu.com/view/325a0a7d28160b4e767f5acfa1c7aa00b52a9d67.html\n",
    "y = a*b\n",
    "print(y.shape)\n",
    "print(y)"
   ]
  }
 ],
 "metadata": {
  "kernelspec": {
   "display_name": "Python 3 (ipykernel)",
   "language": "python",
   "name": "python3"
  },
  "language_info": {
   "codemirror_mode": {
    "name": "ipython",
    "version": 3
   },
   "file_extension": ".py",
   "mimetype": "text/x-python",
   "name": "python",
   "nbconvert_exporter": "python",
   "pygments_lexer": "ipython3",
   "version": "3.9.0"
  }
 },
 "nbformat": 4,
 "nbformat_minor": 5
}
