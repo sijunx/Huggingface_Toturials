{
 "cells": [
  {
   "cell_type": "code",
   "execution_count": 2,
   "id": "8e1351ee",
   "metadata": {},
   "outputs": [
    {
     "name": "stdout",
     "output_type": "stream",
     "text": [
      "0.0005\n"
     ]
    }
   ],
   "source": [
    "lr = 5e-4\n",
    "\n",
    "print(lr)"
   ]
  },
  {
   "cell_type": "code",
   "execution_count": 4,
   "id": "92098623",
   "metadata": {},
   "outputs": [
    {
     "data": {
      "text/plain": [
       "0.92558"
      ]
     },
     "execution_count": 4,
     "metadata": {},
     "output_type": "execute_result"
    }
   ],
   "source": [
    "a = 9.2558e-01\n",
    "a"
   ]
  },
  {
   "cell_type": "code",
   "execution_count": 5,
   "id": "c70729e2",
   "metadata": {},
   "outputs": [
    {
     "data": {
      "text/plain": [
       "0.074422"
      ]
     },
     "execution_count": 5,
     "metadata": {},
     "output_type": "execute_result"
    }
   ],
   "source": [
    "b = 7.4422e-02\n",
    "b"
   ]
  }
 ],
 "metadata": {
  "kernelspec": {
   "display_name": "Python 3 (ipykernel)",
   "language": "python",
   "name": "python3"
  },
  "language_info": {
   "codemirror_mode": {
    "name": "ipython",
    "version": 3
   },
   "file_extension": ".py",
   "mimetype": "text/x-python",
   "name": "python",
   "nbconvert_exporter": "python",
   "pygments_lexer": "ipython3",
   "version": "3.9.0"
  }
 },
 "nbformat": 4,
 "nbformat_minor": 5
}
